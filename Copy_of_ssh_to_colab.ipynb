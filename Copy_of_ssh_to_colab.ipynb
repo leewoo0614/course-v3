{
  "nbformat": 4,
  "nbformat_minor": 0,
  "metadata": {
    "colab": {
      "name": "Copy of ssh_to_colab.ipynb",
      "provenance": [],
      "authorship_tag": "ABX9TyO4w8tFJT8mDOEaAltGvhBH",
      "include_colab_link": true
    },
    "kernelspec": {
      "name": "python3",
      "display_name": "Python 3"
    },
    "accelerator": "GPU"
  },
  "cells": [
    {
      "cell_type": "markdown",
      "metadata": {
        "id": "view-in-github",
        "colab_type": "text"
      },
      "source": [
        "<a href=\"https://colab.research.google.com/github/moonryul/course-v3/blob/master/Copy_of_ssh_to_colab.ipynb\" target=\"_parent\"><img src=\"https://colab.research.google.com/assets/colab-badge.svg\" alt=\"Open In Colab\"/></a>"
      ]
    },
    {
      "cell_type": "code",
      "metadata": {
        "id": "bN6oXRPykm_2",
        "colab_type": "code",
        "colab": {}
      },
      "source": [
        ""
      ],
      "execution_count": 0,
      "outputs": []
    },
    {
      "cell_type": "code",
      "metadata": {
        "id": "S0GCwr3SUT_x",
        "colab_type": "code",
        "outputId": "d672998d-4a7c-4a9c-9558-92067337148b",
        "colab": {
          "base_uri": "https://localhost:8080/",
          "height": 107
        }
      },
      "source": [
        "!pip install colab_ssh --upgrade --user\n",
        "\n",
        "\n"
      ],
      "execution_count": 0,
      "outputs": [
        {
          "output_type": "stream",
          "text": [
            "Collecting colab_ssh\n",
            "  Downloading https://files.pythonhosted.org/packages/41/bf/1572a429455398f740954f8cbb99a59527d714d350b32022e3882c081f61/colab_ssh-0.2.51-py3-none-any.whl\n",
            "Installing collected packages: colab-ssh\n",
            "Successfully installed colab-ssh-0.2.51\n"
          ],
          "name": "stdout"
        }
      ]
    },
    {
      "cell_type": "code",
      "metadata": {
        "id": "Y7TRrgNRVfdh",
        "colab_type": "code",
        "outputId": "e6b63e31-fef2-4b61-cb6b-03e54e9a95ac",
        "colab": {
          "base_uri": "https://localhost:8080/",
          "height": 191
        }
      },
      "source": [
        "\n",
        "import sys\n",
        "sys.path.append('/root/.local/lib/python3.6/site-packages')\n",
        "sys.path"
      ],
      "execution_count": 0,
      "outputs": [
        {
          "output_type": "execute_result",
          "data": {
            "text/plain": [
              "['',\n",
              " '/env/python',\n",
              " '/usr/lib/python36.zip',\n",
              " '/usr/lib/python3.6',\n",
              " '/usr/lib/python3.6/lib-dynload',\n",
              " '/usr/local/lib/python3.6/dist-packages',\n",
              " '/usr/lib/python3/dist-packages',\n",
              " '/usr/local/lib/python3.6/dist-packages/IPython/extensions',\n",
              " '/root/.ipython',\n",
              " '/root/.local/lib/python3.6/site-packages']"
            ]
          },
          "metadata": {
            "tags": []
          },
          "execution_count": 2
        }
      ]
    },
    {
      "cell_type": "code",
      "metadata": {
        "id": "0tBkqO-pU0h1",
        "colab_type": "code",
        "outputId": "f0d76735-1e2a-4bf1-c0e9-55dc5eb979c6",
        "colab": {
          "base_uri": "https://localhost:8080/",
          "height": 193
        }
      },
      "source": [
        "from colab_ssh import launch_ssh, init_git\n",
        "password = 'all4$jesus'\n",
        "ngrokToken = '1ZKGtn71QDKlfNDyaBLZclZHVGV_4K6yT4q5C4mmNXQxVtTSv'\n",
        "launch_ssh(ngrokToken,password)"
      ],
      "execution_count": 0,
      "outputs": [
        {
          "output_type": "stream",
          "text": [
            "Successfully running 0.tcp.ngrok.io:12665\n",
            "[Optional] You can also connect with VSCode SSH Remote extension using this configuration:\n",
            "\n",
            "      Host google_colab_ssh\n",
            "          HostName 0.ssh.ngrok.io\n",
            "          User root\n",
            "          Port 12665\n",
            "      \n"
          ],
          "name": "stdout"
        },
        {
          "output_type": "execute_result",
          "data": {
            "text/plain": [
              "[b'tcp://0.tcp.ngrok.io:12665\\n']"
            ]
          },
          "metadata": {
            "tags": []
          },
          "execution_count": 4
        }
      ]
    }
  ]
}